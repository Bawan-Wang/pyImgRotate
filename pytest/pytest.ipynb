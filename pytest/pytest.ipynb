{
 "cells": [
  {
   "cell_type": "code",
   "execution_count": 2,
   "metadata": {},
   "outputs": [],
   "source": [
    "import numpy as np\n",
    "import ctypes \n",
    "import cv2"
   ]
  },
  {
   "cell_type": "code",
   "execution_count": 3,
   "metadata": {},
   "outputs": [],
   "source": [
    "img = cv2.imread('Lenna.jpg', cv2.IMREAD_GRAYSCALE)"
   ]
  },
  {
   "cell_type": "code",
   "execution_count": 4,
   "metadata": {},
   "outputs": [
    {
     "name": "stdout",
     "output_type": "stream",
     "text": [
      "<class 'numpy.ndarray'>\n",
      "w: 316 h: 316\n"
     ]
    }
   ],
   "source": [
    "w, h = img.shape\n",
    "print(type(img))\n",
    "print(\"w:\", w, \"h:\", h)"
   ]
  },
  {
   "cell_type": "code",
   "execution_count": 5,
   "metadata": {},
   "outputs": [],
   "source": [
    "c_ubyte_p = ctypes.POINTER(ctypes.c_uint8)\n",
    "img_ptr = img.ctypes.data_as(c_ubyte_p)\n",
    "new_w = ctypes.c_int()\n",
    "new_h = ctypes.c_int()"
   ]
  },
  {
   "cell_type": "code",
   "execution_count": 6,
   "metadata": {},
   "outputs": [],
   "source": [
    "rot_tool = ctypes.cdll.LoadLibrary(\"./imgRotate_lib.dll\")"
   ]
  },
  {
   "cell_type": "code",
   "execution_count": 7,
   "metadata": {},
   "outputs": [],
   "source": [
    "# an utility function allows easy CTypes binding\n",
    "def fillprototype(f, restype, argtypes):\n",
    "    f.restype = restype\n",
    "    f.argtypes = argtypes\n",
    "    \n",
    "#main decleration\n",
    "fillprototype(rot_tool.IMGRotate, ctypes.POINTER(ctypes.c_uint8), [ctypes.POINTER(ctypes.c_uint8), ctypes.c_int, ctypes.c_int, ctypes.c_int, ctypes.POINTER(ctypes.c_int), ctypes.POINTER(ctypes.c_int)])"
   ]
  },
  {
   "cell_type": "code",
   "execution_count": 8,
   "metadata": {},
   "outputs": [],
   "source": [
    "rot_image_c = rot_tool.IMGRotate(img_ptr, w, h, 165, ctypes.pointer(new_w), ctypes.pointer(new_h))"
   ]
  },
  {
   "cell_type": "code",
   "execution_count": 9,
   "metadata": {},
   "outputs": [
    {
     "name": "stdout",
     "output_type": "stream",
     "text": [
      "<class '__main__.LP_c_ubyte'>\n"
     ]
    }
   ],
   "source": [
    "print(type(rot_image_c))"
   ]
  },
  {
   "cell_type": "code",
   "execution_count": 10,
   "metadata": {},
   "outputs": [
    {
     "name": "stdout",
     "output_type": "stream",
     "text": [
      "new_w: 387 new_h: 387 len: 149769\n"
     ]
    }
   ],
   "source": [
    "nw = new_h.value\n",
    "nh = new_h.value\n",
    "d = nw * nh\n",
    "print(\"new_w:\",nw,\"new_h:\",nh,\"len:\",d)"
   ]
  },
  {
   "cell_type": "code",
   "execution_count": 11,
   "metadata": {},
   "outputs": [],
   "source": [
    "rt = np.array(np.fromiter(rot_image_c, dtype=np.uint8, count=d))"
   ]
  },
  {
   "cell_type": "code",
   "execution_count": 12,
   "metadata": {},
   "outputs": [
    {
     "name": "stdout",
     "output_type": "stream",
     "text": [
      "<class 'numpy.ndarray'>\n",
      "nw: 387 nh: 387\n"
     ]
    }
   ],
   "source": [
    "rot_img = np.reshape(rt,(nh,nw))\n",
    "nnw, nnh = rot_img.shape\n",
    "print(type(rot_img))\n",
    "print(\"nw:\", nnw, \"nh:\", nnh)"
   ]
  },
  {
   "cell_type": "code",
   "execution_count": 13,
   "metadata": {},
   "outputs": [],
   "source": [
    "cv2.namedWindow('Lenna', cv2.WINDOW_NORMAL)\n",
    "cv2.imshow('Lenna', img)"
   ]
  },
  {
   "cell_type": "code",
   "execution_count": null,
   "metadata": {},
   "outputs": [],
   "source": [
    "cv2.namedWindow('Lenna_rot', cv2.WINDOW_NORMAL)\n",
    "cv2.imshow('Lenna_rot', rot_img)\n",
    "cv2.waitKey(1)"
   ]
  },
  {
   "cell_type": "code",
   "execution_count": null,
   "metadata": {},
   "outputs": [],
   "source": [
    "cv2.destroyAllWindows()"
   ]
  }
 ],
 "metadata": {
  "kernelspec": {
   "display_name": "Python 3",
   "language": "python",
   "name": "python3"
  },
  "language_info": {
   "codemirror_mode": {
    "name": "ipython",
    "version": 3
   },
   "file_extension": ".py",
   "mimetype": "text/x-python",
   "name": "python",
   "nbconvert_exporter": "python",
   "pygments_lexer": "ipython3",
   "version": "3.7.3"
  }
 },
 "nbformat": 4,
 "nbformat_minor": 2
}
